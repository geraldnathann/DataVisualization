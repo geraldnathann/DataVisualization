{
 "cells": [
  {
   "cell_type": "code",
   "execution_count": null,
   "metadata": {
    "id": "blSDHPrSlivp"
   },
   "outputs": [],
   "source": [
    "import pandas as pd\n",
    "import matplotlib.pyplot as plt"
   ]
  },
  {
   "cell_type": "code",
   "execution_count": null,
   "metadata": {
    "id": "8BZRHDUjlz4t"
   },
   "outputs": [],
   "source": [
    "data = pd.read_csv('listings.csv')"
   ]
  },
  {
   "cell_type": "code",
   "execution_count": null,
   "metadata": {
    "colab": {
     "base_uri": "https://localhost:8080/"
    },
    "id": "mla2gPz3nUNw",
    "outputId": "0b9170ea-3ceb-4552-e04e-f19228ff30d3"
   },
   "outputs": [],
   "source": [
    "# Check for duplicates\n",
    "duplicates = data.duplicated().sum()\n",
    "\n",
    "# Check for nulls\n",
    "nulls = data.isnull().sum()\n",
    "totalNulls = sum(nulls)\n",
    "\n",
    "# Outlier detection using IQR\n",
    "Q1 = data['landSize'].quantile(0.25)\n",
    "Q3 = data['landSize'].quantile(0.75)\n",
    "IQR = Q3 - Q1\n",
    "outliers = data[(data['landSize'] < (Q1 - 1.5 * IQR)) | (data['landSize'] > (Q3 + 1.5 * IQR))]\n",
    "\n",
    "# Usable percentage\n",
    "usablePercentage = (data.notnull().sum() / len(data)) * 100\n",
    "\n",
    "print(f\"Duplicates: \")\n",
    "print(duplicates)\n",
    "print(\" \")\n",
    "print(f\"Nulls: \")\n",
    "print(nulls)\n",
    "print(f\"totalNulls: \", totalNulls)\n",
    "print(\" \")\n",
    "print(f\"Outliers\")\n",
    "print(outliers)\n",
    "print(\" \")\n",
    "print(f\"Usable percentage: \")\n",
    "print(usablePercentage)"
   ]
  },
  {
   "cell_type": "code",
   "execution_count": null,
   "metadata": {
    "colab": {
     "base_uri": "https://localhost:8080/",
     "height": 458
    },
    "id": "bFqQYoMonvuX",
    "outputId": "d20b366e-39ab-49c2-8e66-6a0b6574d90e"
   },
   "outputs": [],
   "source": [
    "data['_ptype'].fillna('NA')\n",
    "data['bedRooms'].fillna('NA')\n",
    "data['bathRooms'].fillna('NA')\n",
    "data['landSize'].fillna('NA')\n",
    "data['buildingSize'].fillna('NA')\n",
    "data['price'].fillna('NA')\n",
    "data['garages'].fillna('NA')\n",
    "data['kabkoId'].fillna('NA')\n",
    "data['sold'].fillna('NA')"
   ]
  },
  {
   "cell_type": "code",
   "execution_count": null,
   "metadata": {
    "colab": {
     "base_uri": "https://localhost:8080/"
    },
    "id": "bRKzjY9ppRC-",
    "outputId": "2ee6f49d-2b5d-44d1-e521-f16c9c5197bc"
   },
   "outputs": [],
   "source": [
    "# Statistical summary\n",
    "propertyTypeSummary = {\n",
    "        'House': data['_ptype'].value_counts()['house'],\n",
    "        'Apartment': data['_ptype'].value_counts()['apartment'],\n",
    "        'NA': data['_ptype'].isnull().sum()\n",
    "    }\n",
    "\n",
    "listingTypeSummary = {\n",
    "        'Sale' : data['_ltype'].value_counts()['sale'],\n",
    "        'Rent' : data['_ltype'].value_counts()['rent'],\n",
    "        'NA': data['_ltype'].isnull().sum()\n",
    "    }\n",
    "\n",
    "kabkoSummary = {\n",
    "        '608': data['kabkoId'].value_counts()[608],\n",
    "        '618': data['kabkoId'].value_counts()[618],\n",
    "        'NA': data['kabkoId'].isnull().sum()\n",
    "    }\n",
    "\n",
    "bedroomsSummary = {\n",
    "        'mean': data['bedRooms'].mean(),\n",
    "        'median': data['bedRooms'].median(),\n",
    "        'min': data['bedRooms'].min(),\n",
    "        'max': data['bedRooms'].max()\n",
    "    }\n",
    "\n",
    "bathroomsSummary = {\n",
    "        'mean': data['bathRooms'].mean(),\n",
    "        'median': data['bathRooms'].median(),\n",
    "        'min': data['bathRooms'].min(),\n",
    "        'max': data['bathRooms'].max()\n",
    "    }\n",
    "\n",
    "landsizeSummary = {\n",
    "        'mean': data['landSize'].mean(),\n",
    "        'median': data['landSize'].median(),\n",
    "        'min': data['landSize'].min(),\n",
    "        'max': data['landSize'].max()\n",
    "    }\n",
    "\n",
    "buildingsizeSummary = {\n",
    "        'mean': data['buildingSize'].mean(),\n",
    "        'median': data['buildingSize'].median(),\n",
    "        'min': data['buildingSize'].min(),\n",
    "        'max': data['buildingSize'].max()\n",
    "  }\n",
    "\n",
    "garagesizeSummary = {\n",
    "        '0': data['garages'].value_counts()[0],\n",
    "        '1': data['garages'].value_counts()[1],\n",
    "        '2': data['garages'].value_counts()[2],\n",
    "        '3': data['garages'].value_counts()[3],\n",
    "        '4': data['garages'].value_counts()[4],\n",
    "        'NA': data['garages'].isnull().sum()\n",
    "    }\n",
    "\n",
    "priceSummary = {\n",
    "        'mean': data['price'].mean(),\n",
    "        'median': data['price'].median(),\n",
    "        'min': data['price'].min(),\n",
    "        'max': data['price'].max()\n",
    "    }\n",
    "\n",
    "soldSummary = {\n",
    "        'sold': data['sold'].value_counts()['yes'],\n",
    "        'notSold': data['sold'].value_counts()['no'],\n",
    "        'NA': data['sold'].isnull().sum()\n",
    "    }\n",
    "print(f\"listingTypeSummary: \", propertyTypeSummary)\n",
    "print(\" \")\n",
    "print(f\"propertySummary: \", listingTypeSummary)\n",
    "print(\" \")\n",
    "print(f\"kabkoSummary: \")\n",
    "print(kabkoSummary)\n",
    "print(\" \")\n",
    "print(f\"bedroomsSummary: \", bedroomsSummary)\n",
    "print(\" \")\n",
    "print(f\"bathroomsSummary: \", bathroomsSummary)\n",
    "print(\" \")\n",
    "print(f\"landsizeSummary: \", landsizeSummary)\n",
    "print(\" \")\n",
    "print(f\"buildingsizeSummary: \", buildingsizeSummary)\n",
    "print(\" \")\n",
    "print(f\"garagesizeSummary: \", garagesizeSummary)\n",
    "print(\" \")\n",
    "print(f\"priceSummary: \", priceSummary)\n",
    "print(\" \")\n",
    "print(f\"soldSummary: \", soldSummary)"
   ]
  },
  {
   "cell_type": "code",
   "execution_count": null,
   "metadata": {
    "colab": {
     "base_uri": "https://localhost:8080/",
     "height": 487
    },
    "id": "dRCNOW4IJdxp",
    "outputId": "80b8ec99-36ca-49bb-ff18-30166aafe683"
   },
   "outputs": [],
   "source": [
    "#PropertyType\n",
    "labels = ['House', 'Apartment', 'NA']\n",
    "values = [propertyTypeSummary['House'], propertyTypeSummary['Apartment'], propertyTypeSummary['NA']]\n",
    "\n",
    "plt.figure(figsize=(8, 5))\n",
    "bars = plt.bar(labels, values, color=['lightblue', 'pink', 'green'])\n",
    "for bar in bars:\n",
    "    yval = bar.get_height()\n",
    "    plt.text(bar.get_x() + bar.get_width()/2, yval, f'{yval:.0f}', va='bottom', ha='center')\n",
    "\n",
    "plt.title('Summary of Property Type')\n",
    "plt.xlabel('Property Type')\n",
    "plt.ylabel('Amount')\n",
    "plt.ylim(0, max(values) + 50)\n",
    "plt.show()"
   ]
  },
  {
   "cell_type": "code",
   "execution_count": null,
   "metadata": {
    "colab": {
     "base_uri": "https://localhost:8080/",
     "height": 487
    },
    "id": "ouyEnu0bp9SP",
    "outputId": "489afc95-9431-4180-d92f-8aa3bd0afaa1"
   },
   "outputs": [],
   "source": [
    "#ListingType\n",
    "labels = ['Sale', 'Rent', 'NA']\n",
    "values = [listingTypeSummary['Sale'], listingTypeSummary['Rent'], listingTypeSummary['NA']]\n",
    "\n",
    "plt.figure(figsize=(8, 5))\n",
    "bars = plt.bar(labels, values, color=['lightblue', 'pink', 'green'])\n",
    "for bar in bars:\n",
    "    yval = bar.get_height()\n",
    "    plt.text(bar.get_x() + bar.get_width()/2, yval, f'{yval:.0f}', va='bottom', ha='center')\n",
    "\n",
    "plt.title('Summary of Listing Type')\n",
    "plt.xlabel('Property Type')\n",
    "plt.ylabel('Amount')\n",
    "plt.ylim(0, max(values) + 50)\n",
    "plt.show()"
   ]
  },
  {
   "cell_type": "code",
   "execution_count": null,
   "metadata": {
    "colab": {
     "base_uri": "https://localhost:8080/",
     "height": 487
    },
    "id": "w9bi99eoeNcy",
    "outputId": "00dab349-54ef-469e-edcf-59a11b676c35"
   },
   "outputs": [],
   "source": [
    "#kabkoId\n",
    "labels = ['608', '618', 'NA']\n",
    "values = [kabkoSummary['608'], kabkoSummary['618'], kabkoSummary['NA']]\n",
    "\n",
    "plt.figure(figsize=(8, 5))\n",
    "bars = plt.bar(labels, values, color=['lightblue', 'pink', 'green'])\n",
    "for bar in bars:\n",
    "    yval = bar.get_height()\n",
    "    plt.text(bar.get_x() + bar.get_width()/2, yval, f'{yval:.0f}', va='bottom', ha='center')\n",
    "\n",
    "plt.title('Summary of kabkoId')\n",
    "plt.xlabel('kabkoId')\n",
    "plt.ylabel('Amount')\n",
    "plt.ylim(0, max(values) + 50)\n",
    "plt.show()"
   ]
  },
  {
   "cell_type": "code",
   "execution_count": null,
   "metadata": {
    "colab": {
     "base_uri": "https://localhost:8080/",
     "height": 468
    },
    "id": "YjSY3ue7s6xU",
    "outputId": "6a61f481-e335-4c1f-faa2-bfde1064b322"
   },
   "outputs": [],
   "source": [
    "#bedrooms\n",
    "labels = ['Mean', 'Median', 'Min', 'Max']\n",
    "values = [bedroomsSummary['mean'], bedroomsSummary['median'], bedroomsSummary['min'], bedroomsSummary['max']]\n",
    "\n",
    "plt.figure(figsize=(8, 5))\n",
    "bars = plt.bar(labels, values, color=['lightblue', 'orange', 'green', 'pink'])\n",
    "for bar in bars:\n",
    "    yval = bar.get_height()\n",
    "    plt.text(bar.get_x() + bar.get_width()/2, yval, f'{yval:.0f}', va='bottom', ha='center')\n",
    "\n",
    "plt.title('Summary of Number of Bedrooms')\n",
    "plt.ylabel('Number of Bedrooms')\n",
    "plt.ylim(0, max(values) + 1)\n",
    "plt.show()"
   ]
  },
  {
   "cell_type": "code",
   "execution_count": null,
   "metadata": {
    "colab": {
     "base_uri": "https://localhost:8080/",
     "height": 473
    },
    "id": "F3ps9BtUfNRt",
    "outputId": "87905873-59dc-4ff8-cb19-d5e4c27c1b9e"
   },
   "outputs": [],
   "source": [
    "#bathrooms\n",
    "labels = ['Mean', 'Median', 'Min', 'Max']\n",
    "values = [bathroomsSummary['mean'], bathroomsSummary['median'], bathroomsSummary['min'], bathroomsSummary['max']]\n",
    "\n",
    "plt.figure(figsize=(8, 5))\n",
    "bars = plt.bar(labels, values, color=['lightblue', 'orange', 'green', 'pink'])\n",
    "for bar in bars:\n",
    "    yval = bar.get_height()\n",
    "    plt.text(bar.get_x() + bar.get_width()/2, yval, f'{yval:.0f}', va='bottom', ha='center')\n",
    "\n",
    "plt.title('Summary of Number of Bathrooms')\n",
    "plt.ylabel('Number of Bathrooms')\n",
    "plt.ylim(0, max(values) + 1)\n",
    "plt.show()"
   ]
  },
  {
   "cell_type": "code",
   "execution_count": null,
   "metadata": {
    "colab": {
     "base_uri": "https://localhost:8080/",
     "height": 468
    },
    "id": "A7FUacBxxJaV",
    "outputId": "95b5e193-667a-4615-a5cf-52b8f7c50e4f"
   },
   "outputs": [],
   "source": [
    "#landSize\n",
    "labels = ['Mean', 'Median', 'Min', 'Max']\n",
    "values = [landsizeSummary['mean'], landsizeSummary['median'], landsizeSummary['min'], landsizeSummary['max']]\n",
    "\n",
    "plt.figure(figsize=(8, 5))\n",
    "bars = plt.bar(labels, values, color=['lightblue', 'orange', 'green', 'pink'])\n",
    "for bar in bars:\n",
    "    yval = bar.get_height()\n",
    "    plt.text(bar.get_x() + bar.get_width()/2, yval, f'{yval:.2f}', va='bottom', ha='center')\n",
    "plt.title('Summary of Land Size')\n",
    "plt.ylabel('Land Size')\n",
    "plt.ylim(0, max(values) + 1100)\n",
    "plt.show()"
   ]
  },
  {
   "cell_type": "code",
   "execution_count": null,
   "metadata": {
    "colab": {
     "base_uri": "https://localhost:8080/",
     "height": 468
    },
    "id": "Kaw4A5q3_ywC",
    "outputId": "7165cab1-709f-4c70-9cce-e241505fe10e"
   },
   "outputs": [],
   "source": [
    "#buildingSize\n",
    "labels = ['Mean', 'Median', 'Min', 'Max']\n",
    "values = [buildingsizeSummary['mean'], buildingsizeSummary['median'], buildingsizeSummary['min'], buildingsizeSummary['max']]\n",
    "\n",
    "plt.figure(figsize=(8, 5))\n",
    "bars = plt.bar(labels, values, color=['lightblue', 'orange', 'green', 'pink'])\n",
    "\n",
    "for bar in bars:\n",
    "    yval = bar.get_height()\n",
    "    plt.text(bar.get_x() + bar.get_width()/2, yval, f'{yval:.2f}', va='bottom', ha='center')\n",
    "\n",
    "plt.title('Summary of Building Size')\n",
    "plt.ylabel('Building Size')\n",
    "plt.ylim(0, max(values) + 500)\n",
    "plt.show()"
   ]
  },
  {
   "cell_type": "code",
   "execution_count": null,
   "metadata": {
    "colab": {
     "base_uri": "https://localhost:8080/",
     "height": 487
    },
    "id": "ArNvv7h-OUq7",
    "outputId": "04587b42-d91d-4cb1-bf71-2e79e4204498"
   },
   "outputs": [],
   "source": [
    "#garage\n",
    "labels = ['0', '1', '2', '3', '4', 'NA']\n",
    "values = [garagesizeSummary['0'], garagesizeSummary['1'], garagesizeSummary['2'], garagesizeSummary['3'], garagesizeSummary['4'], garagesizeSummary['NA']]\n",
    "\n",
    "plt.figure(figsize=(8, 5))\n",
    "bars = plt.bar(labels, values, color=['lightblue', 'orange', 'red', 'pink', 'green', 'darkblue'])\n",
    "for bar in bars:\n",
    "    yval = bar.get_height()\n",
    "    plt.text(bar.get_x() + bar.get_width()/2, yval, f'{yval:.0f}', va='bottom', ha='center')\n",
    "\n",
    "plt.title('Summary of Garage')\n",
    "plt.xlabel('Total of Garage')\n",
    "plt.ylabel('Count')\n",
    "plt.ylim(0, max(values) + 50)\n",
    "plt.show()"
   ]
  },
  {
   "cell_type": "code",
   "execution_count": null,
   "metadata": {
    "colab": {
     "base_uri": "https://localhost:8080/",
     "height": 487
    },
    "id": "cqAnum4f2y2V",
    "outputId": "21b06ca4-cac9-4a18-a10b-ccf5506dbed3"
   },
   "outputs": [],
   "source": [
    "#price\n",
    "labels = ['Mean', 'Median', 'Min', 'Max']\n",
    "values = [priceSummary['mean'], priceSummary['median'], priceSummary['min'], priceSummary['max']]\n",
    "\n",
    "plt.figure(figsize=(8, 5))\n",
    "bars = plt.bar(labels, values, color=['lightblue', 'orange', 'green', 'pink'])\n",
    "\n",
    "plt.ticklabel_format(style='plain', axis='y')\n",
    "\n",
    "for bar in bars:\n",
    "    yval = bar.get_height()\n",
    "    plt.text(bar.get_x() + bar.get_width()/2, yval, f'Rp{yval:,.0f}', va='bottom', ha='center')\n",
    "\n",
    "plt.title('Summary of Property Price')\n",
    "plt.ylabel('Price (Rp)')\n",
    "plt.xlabel('Price Statistics')\n",
    "plt.show()"
   ]
  },
  {
   "cell_type": "code",
   "execution_count": null,
   "metadata": {
    "colab": {
     "base_uri": "https://localhost:8080/",
     "height": 487
    },
    "id": "3Gqoe-E0691t",
    "outputId": "d0941f46-9f60-4b9b-e98e-72c1624d46c2"
   },
   "outputs": [],
   "source": [
    "labels = ['Sold', 'Not Sold', 'NA']\n",
    "values = [soldSummary['sold'], soldSummary['notSold'], soldSummary['NA']]\n",
    "\n",
    "plt.figure(figsize=(8, 5))\n",
    "bars = plt.bar(labels, values, color=['lightblue', 'pink', 'green'])\n",
    "for bar in bars:\n",
    "    yval = bar.get_height()\n",
    "    plt.text(bar.get_x() + bar.get_width()/2, yval, f'{yval:.0f}', va='bottom', ha='center')\n",
    "\n",
    "plt.title('Summary of Detail Type')\n",
    "plt.xlabel('Available')\n",
    "plt.ylabel('Count')\n",
    "plt.ylim(0, max(values) + 50)\n",
    "plt.show()"
   ]
  }
 ],
 "metadata": {
  "colab": {
   "provenance": []
  },
  "kernelspec": {
   "display_name": "Python 3",
   "name": "python3"
  },
  "language_info": {
   "codemirror_mode": {
    "name": "ipython",
    "version": 3
   },
   "file_extension": ".py",
   "mimetype": "text/x-python",
   "name": "python",
   "nbconvert_exporter": "python",
   "pygments_lexer": "ipython3",
   "version": "3.13.0"
  }
 },
 "nbformat": 4,
 "nbformat_minor": 0
}
